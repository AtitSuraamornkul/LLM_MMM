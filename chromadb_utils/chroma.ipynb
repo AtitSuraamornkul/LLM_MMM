{
 "cells": [
  {
   "cell_type": "code",
   "execution_count": 11,
   "metadata": {},
   "outputs": [
    {
     "name": "stdout",
     "output_type": "stream",
     "text": [
      "📊 Total documents in database: 0\n"
     ]
    }
   ],
   "source": [
    "# Cell 1: Setup\n",
    "import chromadb\n",
    "from langchain_chroma import Chroma\n",
    "from langchain_huggingface import HuggingFaceEmbeddings\n",
    "\n",
    "# Cell 2: Connect to Database\n",
    "persist_directory = \"./chroma_db\"\n",
    "collection_name = \"new-m150-thb\"\n",
    "\n",
    "embeddings = HuggingFaceEmbeddings(\n",
    "    model_name=\"BAAI/bge-large-en-v1.5\" \n",
    ")\n",
    "\n",
    "client = chromadb.PersistentClient(path=persist_directory)\n",
    "vector_store = Chroma(\n",
    "    client=client,\n",
    "    collection_name=collection_name,\n",
    "    embedding_function=embeddings,\n",
    "    persist_directory=persist_directory\n",
    ")\n",
    "\n",
    "# Cell 3: Count Documents\n",
    "all_data = vector_store.get()\n",
    "print(f\"📊 Total documents in database: {len(all_data['ids'])}\")"
   ]
  }
 ],
 "metadata": {
  "kernelspec": {
   "display_name": "idac_new",
   "language": "python",
   "name": "python3"
  },
  "language_info": {
   "codemirror_mode": {
    "name": "ipython",
    "version": 3
   },
   "file_extension": ".py",
   "mimetype": "text/x-python",
   "name": "python",
   "nbconvert_exporter": "python",
   "pygments_lexer": "ipython3",
   "version": "3.13.5"
  },
  "orig_nbformat": 4,
  "vscode": {
   "interpreter": {
    "hash": "78be259ae8f52cb4f09525a9f670116c3dc26611fae831ffbbd168bd6bc01594"
   }
  }
 },
 "nbformat": 4,
 "nbformat_minor": 2
}
