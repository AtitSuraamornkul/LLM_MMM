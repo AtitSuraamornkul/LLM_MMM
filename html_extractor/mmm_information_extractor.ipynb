{
 "cells": [
  {
   "cell_type": "code",
   "execution_count": 3,
   "metadata": {},
   "outputs": [],
   "source": [
    "from bs4 import BeautifulSoup\n",
    "import requests"
   ]
  },
  {
   "cell_type": "code",
   "execution_count": 4,
   "metadata": {},
   "outputs": [],
   "source": [
    "url = \"https://developers.google.com/meridian/docs/advanced-modeling/interpret-optimizations\"\n",
    "\n",
    "# Set a user agent to mimic a browser\n",
    "headers = {\n",
    "    'User-Agent': 'Mozilla/5.0 (Windows NT 10.0; Win64; x64) AppleWebKit/537.36 (KHTML, like Gecko) Chrome/114.0.0.0 Safari/537.36'\n",
    "}"
   ]
  },
  {
   "cell_type": "code",
   "execution_count": 6,
   "metadata": {},
   "outputs": [],
   "source": [
    "# Fetch the page\n",
    "response = requests.get(url, headers=headers)\n",
    "response.raise_for_status()  # Raise error if request failed\n",
    "soup = BeautifulSoup(response.text, 'html.parser')"
   ]
  },
  {
   "cell_type": "code",
   "execution_count": 8,
   "metadata": {},
   "outputs": [
    {
     "name": "stdout",
     "output_type": "stream",
     "text": [
      "HomeProductsMeridianModeling\n",
      "Interpret the optimizationsStay organized with collectionsSave and categorize content based on your preferences.\n",
      "Optimizations help guide how to allocate the budget for the next period.\n",
      "Meridian provides several ways to view the budget optimizations:\n",
      "Run optimization scenarios:Fixed budget scenario:Helps you find the optimal allocation across\n",
      "channels for a given budget to maximize the overall ROI.Flexible budget scenario with target ROI:Helps maximize your total incremental revenue\n",
      "while also maintaining a target minimum overall ROI.Flexible budget scenario with target marginal ROI:Helps determine the maximum amount you can\n",
      "spend on each channel and while still achieving a target minimum marginal\n",
      "ROI on each channel.Calculate optimal frequencyfor\n",
      "channels that utilize reach and frequency data.Generate a two-page optimization HTML reportwith a custom time range that can be exported to your Google drive.Generate an optimization results summaryto customize your own reports, visualizations, or export them to another\n",
      "format. These numerical summaries let you access more detail, breaking down\n",
      "the results by channel so you can compare the optimized and non-optimized\n",
      "results.Plot optimization visualizationsto compare scenarios with customized\n",
      "constraints, budgets, data, and channel names.\n",
      "Run optimization scenarios:\n",
      "Fixed budget scenario:Helps you find the optimal allocation across\n",
      "channels for a given budget to maximize the overall ROI.Flexible budget scenario with target ROI:Helps maximize your total incremental revenue\n",
      "while also maintaining a target minimum overall ROI.Flexible budget scenario with target marginal ROI:Helps determine the maximum amount you can\n",
      "spend on each channel and while still achieving a target minimum marginal\n",
      "ROI on each channel.\n",
      "Fixed budget scenario:Helps you find the optimal allocation across\n",
      "channels for a given budget to maximize the overall ROI.\n",
      "Flexible budget scenario with target ROI:Helps maximize your total incremental revenue\n",
      "while also maintaining a target minimum overall ROI.\n",
      "Flexible budget scenario with target marginal ROI:Helps determine the maximum amount you can\n",
      "spend on each channel and while still achieving a target minimum marginal\n",
      "ROI on each channel.\n",
      "Calculate optimal frequencyfor\n",
      "channels that utilize reach and frequency data.\n",
      "Generate a two-page optimization HTML reportwith a custom time range that can be exported to your Google drive.\n",
      "Generate an optimization results summaryto customize your own reports, visualizations, or export them to another\n",
      "format. These numerical summaries let you access more detail, breaking down\n",
      "the results by channel so you can compare the optimized and non-optimized\n",
      "results.\n",
      "Plot optimization visualizationsto compare scenarios with customized\n",
      "constraints, budgets, data, and channel names.\n",
      "Optimization scenario summary\n",
      "TheOptimization scenariosummary table is displayed in the HTML output\n",
      "only. It shows a macro-level comparison of the current (non-optimized) and\n",
      "optimized budget, ROI, and incremental revenue or KPI for the scenario type you\n",
      "configured. Additionally, this section shows the constraints you specified on\n",
      "spending at the channel level and the benchmark time period for budget\n",
      "optimization.\n",
      "The following example shows the estimated results from a fixed budget\n",
      "optimization scenario. In this case, there is no significant change\n",
      "between the current ROI and optimized ROI. In general, the optimized ROI will\n",
      "always be at least as high as the current ROI.\n",
      "(Click the image to enlarge.)\n",
      "\n",
      "\n",
      "Change in optimized spend for each channel\n",
      "This chart shows the budget optimization recommended spend change by channel.Changeis defined as the difference between optimized and current spend.\n",
      "The following example is for a fixed budget optimization, so the net budget\n",
      "change is zero.\n",
      "\n",
      "Optimized budget allocation\n",
      "TheOptimized budget allocationtable compares the percent of spend on each\n",
      "channel between the non-optimized and optimized budget scenarios. This helps you\n",
      "identify actionable budget changes for each channel based on the optimized\n",
      "budget scenario.\n",
      "\n",
      "The corresponding pie chart shows only the optimized spend allocation from theOptimized budget allocationtable. In the following example you can see that\n",
      "approximately half of the overall optimized budget is allocated to channel 4 and\n",
      "channel 5. It’s another way of looking at the optimized budget allocation.\n",
      "\n",
      "Optimized incremental revenue across all channels\n",
      "TheOptimized incremental revenue across all channelschart shows the\n",
      "estimated impact of each channel under the optimal budget allocation, and the\n",
      "impact difference associated with moving from the historical to the optimal\n",
      "budget allocation.\n",
      "The visualization shows the current incremental revenue or KPI on the far left\n",
      "side. Then it shows the recommended differences per channel to reach the\n",
      "optimized incremental revenue or KPI on the far right side.\n",
      "The following example shows that the current revenue is 262 million. You can see\n",
      "that the optimized budget allocation reduces the incremental revenue on some\n",
      "channels, but increases the incremental revenue on other channels, increasing\n",
      "the overall incremental revenue to 267 million.\n",
      "\n",
      "Optimized budget on response curves\n",
      "Response curves show incremental revenue as a function of spend. The current\n",
      "and optimal spend levels are plotted as points on this curve. Response curves\n",
      "show how the return per monetary unit spent eventually diminishes, which can\n",
      "further guide budget decisions.\n",
      "In the response curve charts, the solid line represents the spend constraint\n",
      "bounds that you set for the optimization. The dotted line represents spending\n",
      "outside of the constraints.\n",
      "The plot also indicates two points:\n",
      "The circle represents the current spend levelThe square represents the optimized spend level\n",
      "(Click the image to enlarge.)\n",
      "\n",
      "\n",
      "Optimal frequency\n",
      "This plot shows ROI as a function of average frequency, assuming this average\n",
      "frequency is applied to all geos and time periods.\n",
      "Optimal frequencyis\n",
      "the average number of times an advertisement should be shown to the target\n",
      "audience for each geo and time period to maximize the ROI. Note that\n",
      "in the Meridian model specification, the optimal frequency does not\n",
      "depend on the budget allocation.\n",
      "If you have reach and frequency data for one or more media channels, you can\n",
      "generate optimal frequency visualizations.\n",
      "The following example shows that the optimal frequency on each channel is 2 and\n",
      "2.1 respectively with a much larger ROI predicted for channel 5.\n",
      "(Click the image to enlarge.)\n",
      "\n",
      "\n"
     ]
    }
   ],
   "source": [
    "article = soup.find(\"article\", class_=\"devsite-article\")\n",
    "if not article:\n",
    "    raise Exception(\"Could not find the main article content.\")\n",
    "\n",
    "# Extract section headings and paragraphs\n",
    "for section in article.find_all(['h1', 'h2', 'h3', 'p', 'ul', 'ol']):\n",
    "    print(section.get_text(strip=True))"
   ]
  },
  {
   "cell_type": "code",
   "execution_count": null,
   "metadata": {},
   "outputs": [],
   "source": []
  }
 ],
 "metadata": {
  "kernelspec": {
   "display_name": "idac_new",
   "language": "python",
   "name": "python3"
  },
  "language_info": {
   "codemirror_mode": {
    "name": "ipython",
    "version": 3
   },
   "file_extension": ".py",
   "mimetype": "text/x-python",
   "name": "python",
   "nbconvert_exporter": "python",
   "pygments_lexer": "ipython3",
   "version": "3.13.5 | packaged by conda-forge | (main, Jun 16 2025, 08:24:05) [Clang 18.1.8 ]"
  },
  "orig_nbformat": 4,
  "vscode": {
   "interpreter": {
    "hash": "78be259ae8f52cb4f09525a9f670116c3dc26611fae831ffbbd168bd6bc01594"
   }
  }
 },
 "nbformat": 4,
 "nbformat_minor": 2
}
